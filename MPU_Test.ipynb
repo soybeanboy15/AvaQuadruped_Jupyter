{
 "cells": [
  {
   "cell_type": "code",
   "execution_count": 2,
   "id": "subsequent-journalist",
   "metadata": {},
   "outputs": [
    {
     "name": "stdout",
     "output_type": "stream",
     "text": [
      "Acceleration: X:-0.69, Y: -0.19, Z: 9.71 m/s^2\n",
      "Gyro X:14.37, Y: -0.19, Z: -4.07 degrees/s\n",
      "Temperature: 27.59 C\n",
      "\n",
      "Acceleration: X:-0.83, Y: -0.21, Z: 9.78 m/s^2\n",
      "Gyro X:4.02, Y: -1.02, Z: -0.24 degrees/s\n",
      "Temperature: 27.82 C\n",
      "\n",
      "Acceleration: X:-0.88, Y: -0.32, Z: 9.72 m/s^2\n",
      "Gyro X:4.19, Y: -1.15, Z: -0.18 degrees/s\n",
      "Temperature: 27.87 C\n",
      "\n",
      "Acceleration: X:-0.81, Y: -0.28, Z: 9.74 m/s^2\n",
      "Gyro X:4.14, Y: -0.92, Z: -0.15 degrees/s\n",
      "Temperature: 27.92 C\n",
      "\n",
      "Acceleration: X:-0.52, Y: -0.23, Z: 9.66 m/s^2\n",
      "Gyro X:4.17, Y: -1.07, Z: -0.08 degrees/s\n",
      "Temperature: 27.92 C\n",
      "\n",
      "Acceleration: X:-0.51, Y: -0.15, Z: 9.68 m/s^2\n",
      "Gyro X:4.20, Y: -0.95, Z: 0.05 degrees/s\n",
      "Temperature: 28.01 C\n",
      "\n",
      "Acceleration: X:-0.57, Y: -0.14, Z: 9.67 m/s^2\n",
      "Gyro X:4.05, Y: -1.06, Z: -0.09 degrees/s\n",
      "Temperature: 28.06 C\n",
      "\n"
     ]
    },
    {
     "ename": "KeyboardInterrupt",
     "evalue": "",
     "output_type": "error",
     "traceback": [
      "\u001b[0;31m---------------------------------------------------------------------------\u001b[0m",
      "\u001b[0;31mKeyboardInterrupt\u001b[0m                         Traceback (most recent call last)",
      "\u001b[0;32m<ipython-input-2-051e08bbafa0>\u001b[0m in \u001b[0;36m<module>\u001b[0;34m\u001b[0m\n\u001b[1;32m     12\u001b[0m     \u001b[0mprint\u001b[0m\u001b[0;34m(\u001b[0m\u001b[0;34m\"Temperature: %.2f C\"\u001b[0m\u001b[0;34m%\u001b[0m\u001b[0mmpu\u001b[0m\u001b[0;34m.\u001b[0m\u001b[0mtemperature\u001b[0m\u001b[0;34m)\u001b[0m\u001b[0;34m\u001b[0m\u001b[0;34m\u001b[0m\u001b[0m\n\u001b[1;32m     13\u001b[0m     \u001b[0mprint\u001b[0m\u001b[0;34m(\u001b[0m\u001b[0;34m\"\"\u001b[0m\u001b[0;34m)\u001b[0m\u001b[0;34m\u001b[0m\u001b[0;34m\u001b[0m\u001b[0m\n\u001b[0;32m---> 14\u001b[0;31m     \u001b[0mtime\u001b[0m\u001b[0;34m.\u001b[0m\u001b[0msleep\u001b[0m\u001b[0;34m(\u001b[0m\u001b[0;36m1\u001b[0m\u001b[0;34m)\u001b[0m\u001b[0;34m\u001b[0m\u001b[0;34m\u001b[0m\u001b[0m\n\u001b[0m",
      "\u001b[0;31mKeyboardInterrupt\u001b[0m: "
     ]
    }
   ],
   "source": [
    "import time\n",
    "import board\n",
    "import busio\n",
    "import adafruit_mpu6050\n",
    "\n",
    "i2c = busio.I2C(board.SCL_1, board.SDA_1)\n",
    "mpu = adafruit_mpu6050.MPU6050(i2c)\n",
    "\n",
    "while True:\n",
    "    print(\"Acceleration: X:%.2f, Y: %.2f, Z: %.2f m/s^2\"%(mpu.acceleration))\n",
    "    print(\"Gyro X:%.2f, Y: %.2f, Z: %.2f degrees/s\"%(mpu.gyro))\n",
    "    print(\"Temperature: %.2f C\"%mpu.temperature)\n",
    "    print(\"\")\n",
    "    time.sleep(1)"
   ]
  },
  {
   "cell_type": "code",
   "execution_count": 1,
   "id": "dense-porcelain",
   "metadata": {},
   "outputs": [
    {
     "data": {
      "text/plain": [
       "['CE0',\n",
       " 'CE0_1',\n",
       " 'CE1',\n",
       " 'CE1_1',\n",
       " 'D10',\n",
       " 'D11',\n",
       " 'D12',\n",
       " 'D13',\n",
       " 'D16',\n",
       " 'D17',\n",
       " 'D18',\n",
       " 'D19',\n",
       " 'D20',\n",
       " 'D21',\n",
       " 'D22',\n",
       " 'D23',\n",
       " 'D24',\n",
       " 'D25',\n",
       " 'D26',\n",
       " 'D27',\n",
       " 'D4',\n",
       " 'D5',\n",
       " 'D6',\n",
       " 'D7',\n",
       " 'D8',\n",
       " 'D9',\n",
       " 'I2C',\n",
       " 'MISO',\n",
       " 'MISO_1',\n",
       " 'MOSI',\n",
       " 'MOSI_1',\n",
       " 'SCK',\n",
       " 'SCK_1',\n",
       " 'SCL',\n",
       " 'SCLK',\n",
       " 'SCLK_1',\n",
       " 'SCL_1',\n",
       " 'SDA',\n",
       " 'SDA_1',\n",
       " 'SPI',\n",
       " '__builtins__',\n",
       " '__cached__',\n",
       " '__doc__',\n",
       " '__file__',\n",
       " '__loader__',\n",
       " '__name__',\n",
       " '__package__',\n",
       " '__spec__',\n",
       " 'ap_board',\n",
       " 'board_id',\n",
       " 'detector',\n",
       " 'pin',\n",
       " 'sys']"
      ]
     },
     "execution_count": 1,
     "metadata": {},
     "output_type": "execute_result"
    }
   ],
   "source": [
    "import board\n",
    "dir(board)"
   ]
  },
  {
   "cell_type": "code",
   "execution_count": null,
   "id": "incident-translator",
   "metadata": {},
   "outputs": [],
   "source": []
  }
 ],
 "metadata": {
  "kernelspec": {
   "display_name": "Python 3",
   "language": "python",
   "name": "python3"
  },
  "language_info": {
   "codemirror_mode": {
    "name": "ipython",
    "version": 3
   },
   "file_extension": ".py",
   "mimetype": "text/x-python",
   "name": "python",
   "nbconvert_exporter": "python",
   "pygments_lexer": "ipython3",
   "version": "3.6.9"
  }
 },
 "nbformat": 4,
 "nbformat_minor": 5
}
