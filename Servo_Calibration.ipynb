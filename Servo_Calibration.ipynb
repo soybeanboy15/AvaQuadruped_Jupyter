{
 "cells": [
  {
   "cell_type": "code",
   "execution_count": 1,
   "id": "focused-rings",
   "metadata": {},
   "outputs": [],
   "source": [
    "import time\n",
    "import board\n",
    "import digitalio\n",
    "import numpy as np\n",
    "from numpy import interp\n",
    "from adafruit_servokit import ServoKit\n",
    "kit = ServoKit(channels=16 , frequency=300)"
   ]
  },
  {
   "cell_type": "code",
   "execution_count": 8,
   "id": "finished-feeding",
   "metadata": {},
   "outputs": [],
   "source": [
    "relay = digitalio.DigitalInOut(board.D17)\n",
    "relay.direction = digitalio.Direction.OUTPUT\n",
    "relay.value = True"
   ]
  },
  {
   "cell_type": "code",
   "execution_count": 15,
   "id": "prime-fisher",
   "metadata": {},
   "outputs": [],
   "source": [
    "#Servo Calibration\n",
    "kit.servo[0].set_pulse_width_range(min_pulse=760, max_pulse = 2130) # FL Hip\n",
    "kit.servo[1].set_pulse_width_range(min_pulse=835, max_pulse = 2185) # FL Knee\n",
    "kit.servo[2].set_pulse_width_range(min_pulse=870, max_pulse = 2220) # FL Leg\n",
    "kit.servo[3].set_pulse_width_range(min_pulse=870, max_pulse = 2225) # BL Hip\n",
    "kit.servo[4].set_pulse_width_range(min_pulse=1005, max_pulse = 2325) # BL Knee\n",
    "kit.servo[5].set_pulse_width_range(min_pulse=900, max_pulse = 2210) # BL Leg\n",
    "kit.servo[6].set_pulse_width_range(min_pulse=810, max_pulse = 2180) # BR Hip\n",
    "kit.servo[7].set_pulse_width_range(min_pulse=785, max_pulse = 2095) # BR Knee\n",
    "kit.servo[8].set_pulse_width_range(min_pulse=800, max_pulse = 2110) # BR Leg\n",
    "kit.servo[9].set_pulse_width_range(min_pulse=800, max_pulse = 2170) # FR Hip\n",
    "kit.servo[10].set_pulse_width_range(min_pulse=910, max_pulse = 2250) # FR Knee\n",
    "kit.servo[11].set_pulse_width_range(min_pulse=800, max_pulse = 2090)# FR Leg"
   ]
  },
  {
   "cell_type": "code",
   "execution_count": 4,
   "id": "bacterial-daughter",
   "metadata": {},
   "outputs": [],
   "source": [
    "# Lie Down\n",
    "angles = np.array([[0, 0, 0],   # FL\n",
    "                   [0, 0, 0],   # BL\n",
    "                   [0, 0, 0],   # BR\n",
    "                   [0, 0, 0]])  # FR"
   ]
  },
  {
   "cell_type": "code",
   "execution_count": 6,
   "id": "verbal-adoption",
   "metadata": {},
   "outputs": [],
   "source": [
    "# Normal Position\n",
    "angles = np.array([[0, -45, -45],   # FL\n",
    "                   [0, -45, -45],   # BL\n",
    "                   [0, -45, -45],   # BR\n",
    "                   [0, -45, -45]])  # FR"
   ]
  },
  {
   "cell_type": "code",
   "execution_count": 8,
   "id": "caring-study",
   "metadata": {},
   "outputs": [],
   "source": [
    "# Normal Position\n",
    "angles = np.array([[0, -45, 0],   # FL\n",
    "                   [0, -45, 0],   # BL\n",
    "                   [0, -45, 0],   # BR\n",
    "                   [0, -45, 0]])  # FR"
   ]
  },
  {
   "cell_type": "code",
   "execution_count": 16,
   "id": "absent-engineering",
   "metadata": {},
   "outputs": [],
   "source": [
    "# FL\n",
    "if angles[0][0] >= -30 and angles[0][0] <= 30:\n",
    "    kit.servo[0].angle = interp(angles[0][0], [-90, 90], [180, 0]) # Link 1\n",
    "\n",
    "if angles[0][1] >= -90 and angles[0][1] <= 30:\n",
    "    kit.servo[1].angle = interp(angles[0][1], [-90, 90], [180, 0]) # Link 2\n",
    "\n",
    "if angles[0][2] >= -55 and angles[0][2] <= 60:\n",
    "    kit.servo[2].angle = interp(angles[0][2], [-90, 90], [0, 180]) # Link 3\n",
    "\n",
    "# BL\n",
    "if angles[1][0] >= -30 and angles[1][0] <= 30:\n",
    "    kit.servo[3].angle = interp(angles[1][0], [-90, 90], [0, 180]) # Link 1\n",
    "\n",
    "if angles[1][1] >= -90 and angles[1][1] <= 30:\n",
    "    kit.servo[4].angle = interp(angles[1][1], [-90, 90], [180, 0]) # Link 2\n",
    "\n",
    "if angles[1][2] >= -55 and angles[1][2] <= 60:\n",
    "    kit.servo[5].angle = interp(angles[1][2], [-90, 90], [0, 180]) # Link 3\n",
    "\n",
    "# BR\n",
    "if angles[2][0] >= -30 and angles[2][0] <= 30:\n",
    "    kit.servo[6].angle = interp(angles[2][0], [-90, 90], [180, 0]) # Link 1\n",
    "\n",
    "if angles[2][1] >= -90 and angles[2][1] <= 30:\n",
    "    kit.servo[7].angle = interp(angles[2][1], [-90, 90], [0, 180]) # Link 2\n",
    "\n",
    "if angles[2][2] >= -55 and angles[2][2] <= 60:\n",
    "    kit.servo[8].angle = interp(angles[2][2], [-90, 90], [180, 0]) # Link 3\n",
    "\n",
    "# FR\n",
    "if angles[3][0] >= -30 and angles[3][0] <= 30:\n",
    "    kit.servo[9].angle = interp(angles[3][0], [-90, 90], [0, 180]) # Link 1\n",
    "\n",
    "if angles[3][1] >= -90 and angles[3][1] <= 30:\n",
    "    kit.servo[10].angle = interp(angles[3][1], [-90, 90], [0, 180]) # Link 2\n",
    "\n",
    "if angles[3][2] >= -55 and angles[3][2] <= 60:\n",
    "    kit.servo[11].angle = interp(angles[3][2], [-90, 90], [180, 0]) # Link 3"
   ]
  },
  {
   "cell_type": "code",
   "execution_count": null,
   "id": "southern-cedar",
   "metadata": {},
   "outputs": [],
   "source": []
  },
  {
   "cell_type": "code",
   "execution_count": null,
   "id": "irish-street",
   "metadata": {},
   "outputs": [],
   "source": []
  }
 ],
 "metadata": {
  "kernelspec": {
   "display_name": "Python 3",
   "language": "python",
   "name": "python3"
  },
  "language_info": {
   "codemirror_mode": {
    "name": "ipython",
    "version": 3
   },
   "file_extension": ".py",
   "mimetype": "text/x-python",
   "name": "python",
   "nbconvert_exporter": "python",
   "pygments_lexer": "ipython3",
   "version": "3.6.9"
  }
 },
 "nbformat": 4,
 "nbformat_minor": 5
}
