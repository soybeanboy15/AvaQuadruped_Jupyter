{
 "cells": [
  {
   "cell_type": "code",
   "execution_count": 1,
   "id": "fifth-extent",
   "metadata": {},
   "outputs": [
    {
     "ename": "KeyboardInterrupt",
     "evalue": "",
     "output_type": "error",
     "traceback": [
      "\u001b[0;31m---------------------------------------------------------------------------\u001b[0m",
      "\u001b[0;31mKeyboardInterrupt\u001b[0m                         Traceback (most recent call last)",
      "\u001b[0;32m<ipython-input-1-13de6d5c4c4f>\u001b[0m in \u001b[0;36m<module>\u001b[0;34m\u001b[0m\n\u001b[1;32m     24\u001b[0m         \u001b[0mpixels\u001b[0m\u001b[0;34m[\u001b[0m\u001b[0mi\u001b[0m\u001b[0;34m]\u001b[0m \u001b[0;34m=\u001b[0m \u001b[0mBlue\u001b[0m\u001b[0;34m\u001b[0m\u001b[0;34m\u001b[0m\u001b[0m\n\u001b[1;32m     25\u001b[0m         \u001b[0mpixels\u001b[0m\u001b[0;34m.\u001b[0m\u001b[0mshow\u001b[0m\u001b[0;34m(\u001b[0m\u001b[0;34m)\u001b[0m\u001b[0;34m\u001b[0m\u001b[0;34m\u001b[0m\u001b[0m\n\u001b[0;32m---> 26\u001b[0;31m         \u001b[0mtime\u001b[0m\u001b[0;34m.\u001b[0m\u001b[0msleep\u001b[0m\u001b[0;34m(\u001b[0m\u001b[0mDELAY\u001b[0m\u001b[0;34m)\u001b[0m\u001b[0;34m\u001b[0m\u001b[0;34m\u001b[0m\u001b[0m\n\u001b[0m\u001b[1;32m     27\u001b[0m         \u001b[0mpixels\u001b[0m\u001b[0;34m.\u001b[0m\u001b[0mfill\u001b[0m\u001b[0;34m(\u001b[0m\u001b[0;36m0\u001b[0m\u001b[0;34m)\u001b[0m\u001b[0;34m\u001b[0m\u001b[0;34m\u001b[0m\u001b[0m\n",
      "\u001b[0;31mKeyboardInterrupt\u001b[0m: "
     ]
    }
   ],
   "source": [
    "import time\n",
    "import board\n",
    "import neopixel_spi as neopixel\n",
    " \n",
    "NUM_PIXELS = 12\n",
    "PIXEL_ORDER = neopixel.GRB\n",
    "# --- COLORS in RGB ---\n",
    "Red = (255,10,51)\n",
    "Green = (20, 240, 20)\n",
    "Blue = (9,120,250)\n",
    "Orange = (255,80,0)\n",
    "\n",
    "\n",
    "DELAY = 0.5\n",
    "BRIGHTNESS = 0.5\n",
    "spi = board.SPI()\n",
    " \n",
    "pixels = neopixel.NeoPixel_SPI(\n",
    "    spi, NUM_PIXELS, pixel_order=PIXEL_ORDER, auto_write=False, brightness = BRIGHTNESS\n",
    ")\n",
    " \n",
    "while True:\n",
    "    for i in range(NUM_PIXELS):\n",
    "        pixels[i] = Blue\n",
    "        pixels.show()\n",
    "        time.sleep(DELAY)\n",
    "        pixels.fill(0)"
   ]
  },
  {
   "cell_type": "code",
   "execution_count": null,
   "id": "liquid-title",
   "metadata": {},
   "outputs": [],
   "source": [
    "import time\n",
    "import board\n",
    "import neopixel_spi as neopixel\n",
    "\n",
    "NUM_PIXELS = 12\n",
    "PIXEL_ORDER = neopixel.GRB\n",
    "COLORS = (0xFF0000, 0x00FF00, 0x0000FF)\n",
    "DELAY = 0.1\n",
    "\n",
    "spi = board.SPI()\n",
    "\n",
    "pixels = neopixel.NeoPixel_SPI(\n",
    "    spi, NUM_PIXELS, pixel_order=PIXEL_ORDER, auto_write=False\n",
    ")\n",
    "\n",
    "while True:\n",
    "    for color in COLORS:\n",
    "        for i in range(NUM_PIXELS):\n",
    "            pixels[i] = color\n",
    "            pixels.show()\n",
    "            time.sleep(DELAY)\n",
    "            pixels.fill(0)\n"
   ]
  },
  {
   "cell_type": "code",
   "execution_count": null,
   "id": "confidential-sunglasses",
   "metadata": {},
   "outputs": [],
   "source": [
    "import time\n",
    "import board\n",
    "import neopixel_spi as neopixel\n",
    "\n",
    "NUM_PIXELS = 12\n",
    "PIXEL_ORDER = neopixel.GRB\n",
    "COLORS = (0xFF0000, 0x00FF00, 0x0000FF)\n",
    "DELAY = 0.1\n",
    "\n",
    "spi = board.SPI()\n",
    "\n",
    "pixels = neopixel.NeoPixel_SPI(\n",
    "    spi, NUM_PIXELS, pixel_order=PIXEL_ORDER, auto_write=False\n",
    ")\n",
    "\n",
    "while True:\n",
    "    for color in COLORS:\n",
    "        for i in range(NUM_PIXELS):\n",
    "            pixels[i] = color\n",
    "            pixels.show()\n",
    "            time.sleep(DELAY)\n",
    "            pixels.fill(0)"
   ]
  },
  {
   "cell_type": "code",
   "execution_count": null,
   "id": "latest-consent",
   "metadata": {},
   "outputs": [],
   "source": []
  }
 ],
 "metadata": {
  "kernelspec": {
   "display_name": "Python 3",
   "language": "python",
   "name": "python3"
  },
  "language_info": {
   "codemirror_mode": {
    "name": "ipython",
    "version": 3
   },
   "file_extension": ".py",
   "mimetype": "text/x-python",
   "name": "python",
   "nbconvert_exporter": "python",
   "pygments_lexer": "ipython3",
   "version": "3.6.9"
  }
 },
 "nbformat": 4,
 "nbformat_minor": 5
}
