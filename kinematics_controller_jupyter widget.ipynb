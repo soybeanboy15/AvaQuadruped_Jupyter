{
 "cells": [
  {
   "cell_type": "code",
   "execution_count": 10,
   "id": "coordinated-meditation",
   "metadata": {},
   "outputs": [],
   "source": [
    "from ipywidgets import interact, interactive, fixed, interact_manual\n",
    "import ipywidgets.widgets as widgets\n",
    "import numpy as np\n",
    "from math import *\n",
    "import time, sched\n",
    "import board\n",
    "import digitalio\n",
    "from numpy import interp\n",
    "from adafruit_servokit import ServoKit\n",
    "from src import kinematics"
   ]
  },
  {
   "cell_type": "code",
   "execution_count": 12,
   "id": "rubber-printer",
   "metadata": {},
   "outputs": [],
   "source": [
    "kit = ServoKit(channels=16 , frequency=300)\n",
    "\n",
    "# --- Servo Calibration ---\n",
    "kit.servo[0].set_pulse_width_range(min_pulse=760, max_pulse = 2130)\n",
    "kit.servo[1].set_pulse_width_range(min_pulse=810, max_pulse = 2180)\n",
    "kit.servo[2].set_pulse_width_range(min_pulse=810, max_pulse = 2160)\n",
    "kit.servo[3].set_pulse_width_range(min_pulse=870, max_pulse = 2225)\n",
    "kit.servo[4].set_pulse_width_range(min_pulse=960, max_pulse = 2330)\n",
    "kit.servo[5].set_pulse_width_range(min_pulse=890, max_pulse = 2160)\n",
    "kit.servo[6].set_pulse_width_range(min_pulse=810, max_pulse = 2180)\n",
    "kit.servo[7].set_pulse_width_range(min_pulse=780, max_pulse = 2140)\n",
    "kit.servo[8].set_pulse_width_range(min_pulse=850, max_pulse = 2130)\n",
    "kit.servo[9].set_pulse_width_range(min_pulse=800, max_pulse = 2170)\n",
    "kit.servo[10].set_pulse_width_range(min_pulse=870, max_pulse = 2240)\n",
    "kit.servo[11].set_pulse_width_range(min_pulse=860, max_pulse = 2140)"
   ]
  },
  {
   "cell_type": "code",
   "execution_count": 14,
   "id": "gothic-supervisor",
   "metadata": {},
   "outputs": [],
   "source": [
    "# Relay code to cut servo power if needed\n",
    "# True = Power on\n",
    "# False = Power off\n",
    "relay = digitalio.DigitalInOut(board.D17)\n",
    "relay.direction = digitalio.Direction.OUTPUT\n",
    "relay.value = True\n"
   ]
  },
  {
   "cell_type": "markdown",
   "id": "brown-ceremony",
   "metadata": {},
   "source": [
    "roll_slider = controller.axes[0]\n",
    "yaw_slider = controller.axes[2]\n",
    "pitch_slider = controller.axes[3]\n",
    "def on_change(v):\n",
    "    x = v['new']\n",
    "    \n",
    "roll_slider.observe(on_change, names = 'value')\n",
    "yaw_slider.observe(on_change, names = 'value')\n",
    "pitch_slider.observe(on_change, names = 'value')"
   ]
  },
  {
   "cell_type": "code",
   "execution_count": 15,
   "id": "legitimate-sheep",
   "metadata": {},
   "outputs": [],
   "source": [
    "# Arrays for leg position\n",
    "# X-AXIS is forward and backwards\n",
    "# Y-AXIS is Up and down\n",
    "# Z-AXIS is left and right\n",
    "# [x-axis, y-axis, z-axis]\n",
    "# np.array([FL, FR, BL, BR])\n",
    "Lp=np.array([[117,-sqrt(200)*10,88.5,1],[117,-sqrt(200)*10,-88.5,1],[-117,-sqrt(200)*10,88.5,1],[-117,-sqrt(200)*10,-88.5,1]])"
   ]
  },
  {
   "cell_type": "code",
   "execution_count": 16,
   "id": "relative-thousand",
   "metadata": {},
   "outputs": [],
   "source": [
    "# Function to write angles to servos\n",
    "# Interpolate maps out the angle from -90 to 90 degrees to the servo configuriation of 0 to 180. \n",
    "# Some servos angles are inversed due to the installation of the servo.\n",
    "\n",
    "def write_angles(angles):\n",
    "    # FL\n",
    "    if angles[0][0] >= -30 and angles[0][0] <= 30:\n",
    "        kit.servo[0].angle = interp(angles[0][0], [-90, 90], [180, 0]) # Link 1\n",
    "\n",
    "    if angles[0][1] >= -90 and angles[0][1] <= 30:\n",
    "        kit.servo[1].angle = interp(angles[0][1], [-90, 90], [180, 0]) # Link 2\n",
    "\n",
    "    if angles[0][2] >= -55 and angles[0][2] <= 60:\n",
    "        kit.servo[2].angle = interp(angles[0][2], [-90, 90], [0, 180]) # Link 3\n",
    "\n",
    "    # BL\n",
    "    if angles[1][0] >= -30 and angles[1][0] <= 30:\n",
    "        kit.servo[3].angle = interp(angles[1][0], [-90, 90], [0, 180]) # Link 1\n",
    "\n",
    "    if angles[1][1] >= -90 and angles[1][1] <= 30:\n",
    "        kit.servo[4].angle = interp(angles[1][1], [-90, 90], [180, 0]) # Link 2\n",
    "\n",
    "    if angles[1][2] >= -55 and angles[1][2] <= 60:\n",
    "        kit.servo[5].angle = interp(angles[1][2], [-90, 90], [0, 180]) # Link 3\n",
    "\n",
    "    # BR\n",
    "    if angles[2][0] >= -30 and angles[2][0] <= 30:\n",
    "        kit.servo[6].angle = interp(angles[2][0], [-90, 90], [180, 0]) # Link 1\n",
    "\n",
    "    if angles[2][1] >= -90 and angles[2][1] <= 30:\n",
    "        kit.servo[7].angle = interp(angles[2][1], [-90, 90], [0, 180]) # Link 2\n",
    "\n",
    "    if angles[2][2] >= -55 and angles[2][2] <= 60:\n",
    "        kit.servo[8].angle = interp(angles[2][2], [-90, 90], [180, 0]) # Link 3\n",
    "\n",
    "    # FR\n",
    "    if angles[3][0] >= -30 and angles[3][0] <= 30:\n",
    "        kit.servo[9].angle = interp(angles[3][0], [-90, 90], [0, 180]) # Link 1\n",
    "\n",
    "    if angles[3][1] >= -90 and angles[3][1] <= 30:\n",
    "        kit.servo[10].angle = interp(angles[3][1], [-90, 90], [0, 180]) # Link 2\n",
    "\n",
    "    if angles[3][2] >= -55 and angles[3][2] <= 60:\n",
    "        kit.servo[11].angle = interp(angles[3][2], [-90, 90], [180, 0]) # Link 3\n",
    "        "
   ]
  },
  {
   "cell_type": "code",
   "execution_count": 17,
   "id": "artistic-excitement",
   "metadata": {},
   "outputs": [
    {
     "data": {
      "application/vnd.jupyter.widget-view+json": {
       "model_id": "1c06a790ceb948cc9188872a0f050da2",
       "version_major": 2,
       "version_minor": 0
      },
      "text/plain": [
       "Controller()"
      ]
     },
     "metadata": {},
     "output_type": "display_data"
    }
   ],
   "source": [
    "controller = widgets.Controller(index = 0)\n",
    "display(controller)"
   ]
  },
  {
   "cell_type": "code",
   "execution_count": 19,
   "id": "intimate-blind",
   "metadata": {},
   "outputs": [
    {
     "data": {
      "application/vnd.jupyter.widget-view+json": {
       "model_id": "1c06a790ceb948cc9188872a0f050da2",
       "version_major": 2,
       "version_minor": 0
      },
      "text/plain": [
       "Controller(axes=(Axis(value=0.0), Axis(value=0.0), Axis(value=0.0), Axis(value=0.0)), buttons=(Button(value=0.…"
      ]
     },
     "metadata": {},
     "output_type": "display_data"
    },
    {
     "data": {
      "application/vnd.jupyter.widget-view+json": {
       "model_id": "fb65f6023d2d49ddb7cb74cd925ffaeb",
       "version_major": 2,
       "version_minor": 0
      },
      "text/plain": [
       "Output()"
      ]
     },
     "metadata": {},
     "output_type": "display_data"
    }
   ],
   "source": [
    "r = controller.axes[0]\n",
    "y = controller.axes[2]\n",
    "p = controller.axes[3]\n",
    "up = controller.buttons[12]\n",
    "down = controller.buttons[13]\n",
    "left = controller.buttons[14]\n",
    "right = controller.buttons[15]\n",
    "display(controller)\n",
    "\n",
    "def f(r, y, p, up, down, left, right):\n",
    "    roll = r*20*pi/180\n",
    "    yaw = y*16*pi/180\n",
    "    pitch = p*16*pi/180\n",
    "    x_axis = 0\n",
    "    y_axis = 0\n",
    "    z_axis = 0\n",
    "    if up == 1:\n",
    "        y_axis = 20\n",
    "    if down == 1:\n",
    "        y_axis = -20\n",
    "    if left == 1:\n",
    "        z_axis = 15\n",
    "    if right == 1:\n",
    "        z_axis = -15\n",
    "    angles = np.round(kinematics.solve(Lp,kinematics.bodyIK(roll,yaw,pitch,x_axis,y_axis,z_axis)), decimals=0)\n",
    "    angles_s = np.array([[0, 0, 0],   # FL\n",
    "                   [0, 0, 0],   # BL\n",
    "                   [0, 0, 0],   # BR\n",
    "                   [0, 0, 0]])  # FR\n",
    "    write_angles(angles)\n",
    "    print(angles)\n",
    "    \n",
    "out = widgets.interactive_output(f, {'r': r, 'y': y, 'p': p, 'up':up, 'down':down, 'left':left, 'right':right})\n",
    "display(out)"
   ]
  },
  {
   "cell_type": "code",
   "execution_count": null,
   "id": "surrounded-strap",
   "metadata": {},
   "outputs": [],
   "source": [
    "relay.value = False"
   ]
  },
  {
   "cell_type": "code",
   "execution_count": null,
   "id": "checked-necklace",
   "metadata": {},
   "outputs": [],
   "source": [
    "beep = interp(250, [-90, 90], [180, 0])\n",
    "print(beep)"
   ]
  },
  {
   "cell_type": "code",
   "execution_count": null,
   "id": "colonial-hardware",
   "metadata": {},
   "outputs": [],
   "source": []
  }
 ],
 "metadata": {
  "kernelspec": {
   "display_name": "Python 3",
   "language": "python",
   "name": "python3"
  },
  "language_info": {
   "codemirror_mode": {
    "name": "ipython",
    "version": 3
   },
   "file_extension": ".py",
   "mimetype": "text/x-python",
   "name": "python",
   "nbconvert_exporter": "python",
   "pygments_lexer": "ipython3",
   "version": "3.6.9"
  }
 },
 "nbformat": 4,
 "nbformat_minor": 5
}
